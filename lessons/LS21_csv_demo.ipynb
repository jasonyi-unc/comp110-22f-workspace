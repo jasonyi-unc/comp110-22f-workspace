{
 "cells": [
  {
   "cell_type": "markdown",
   "metadata": {},
   "source": [
    "# Working with CSV Data\n",
    "\n",
    "Comma-separated value files are commonly used for sharing tables of data between systems.\n",
    "\n",
    "Programs like Microsoft Excel, Google Sheets, as well as popular data base systems can produce CSV files as exports and programs, such as the one we will write today, have libraries for reading and processing data in from CSV files."
   ]
  },
  {
   "cell_type": "code",
   "execution_count": 1,
   "metadata": {},
   "outputs": [
    {
     "name": "stdout",
     "output_type": "stream",
     "text": [
      "Autoreload of imported modules enabled. Be sure to save your modules!\n"
     ]
    }
   ],
   "source": [
    "%reload_ext autoreload\n",
    "%autoreload 2\n",
    "print(\"Autoreload of imported modules enabled. Be sure to save your modules!\")"
   ]
  },
  {
   "cell_type": "markdown",
   "metadata": {},
   "source": [
    "## Importing Utility Functions\n",
    "\n",
    "Our helper functions will be located in `lessons/data_utils.py` and we will import the functions in the code cell below."
   ]
  },
  {
   "cell_type": "code",
   "execution_count": 2,
   "metadata": {},
   "outputs": [
    {
     "data": {
      "text/plain": [
       "[{'date': '10/16', 'low': '56', 'high': '75'},\n",
       " {'date': '10/17', 'low': '57', 'high': '76'},\n",
       " {'date': '10/18', 'low': '62', 'high': '75'},\n",
       " {'date': '10/19', 'low': '64', 'high': '79'}]"
      ]
     },
     "execution_count": 2,
     "metadata": {},
     "output_type": "execute_result"
    }
   ],
   "source": [
    "from LS21_data_utils import read_csv_rows\n",
    "\n",
    "data_file: str = \"../data/weather.csv\"\n",
    "data_table: list[dict[str, str]] = read_csv_rows(data_file)\n",
    "data_table"
   ]
  },
  {
   "cell_type": "markdown",
   "metadata": {},
   "source": [
    "## Selecting the values of a single column with `column_values`"
   ]
  },
  {
   "cell_type": "code",
   "execution_count": 6,
   "metadata": {},
   "outputs": [
    {
     "data": {
      "text/plain": [
       "['56', '57', '62', '64']"
      ]
     },
     "execution_count": 6,
     "metadata": {},
     "output_type": "execute_result"
    }
   ],
   "source": [
    "from LS21_data_utils import column_values\n",
    "\n",
    "dates: list[str] = column_values(data_table, \"low\")\n",
    "dates"
   ]
  },
  {
   "cell_type": "markdown",
   "metadata": {},
   "source": [
    "## Covert a row-oriented \"table\" to a column-oriented \"table\""
   ]
  },
  {
   "cell_type": "code",
   "execution_count": 9,
   "metadata": {},
   "outputs": [
    {
     "ename": "TypeError",
     "evalue": "'type' object does not support item assignment",
     "output_type": "error",
     "traceback": [
      "\u001b[0;31m---------------------------------------------------------------------------\u001b[0m",
      "\u001b[0;31mTypeError\u001b[0m                                 Traceback (most recent call last)",
      "\u001b[1;32m/Users/hyon/comp110-22f-workspace/lessons/LS21_csv_demo.ipynb Cell 8\u001b[0m in \u001b[0;36m<cell line: 3>\u001b[0;34m()\u001b[0m\n\u001b[1;32m      <a href='vscode-notebook-cell:/Users/hyon/comp110-22f-workspace/lessons/LS21_csv_demo.ipynb#X16sZmlsZQ%3D%3D?line=0'>1</a>\u001b[0m \u001b[39mfrom\u001b[39;00m \u001b[39mLS21_data_utils\u001b[39;00m \u001b[39mimport\u001b[39;00m columnar\n\u001b[0;32m----> <a href='vscode-notebook-cell:/Users/hyon/comp110-22f-workspace/lessons/LS21_csv_demo.ipynb#X16sZmlsZQ%3D%3D?line=2'>3</a>\u001b[0m column_table: \u001b[39mdict\u001b[39m[\u001b[39mstr\u001b[39m, \u001b[39mlist\u001b[39m[\u001b[39mstr\u001b[39m]] \u001b[39m=\u001b[39m columnar(data_table)\n\u001b[1;32m      <a href='vscode-notebook-cell:/Users/hyon/comp110-22f-workspace/lessons/LS21_csv_demo.ipynb#X16sZmlsZQ%3D%3D?line=3'>4</a>\u001b[0m column_table\n",
      "File \u001b[0;32m~/comp110-22f-workspace/lessons/LS21_data_utils.py:33\u001b[0m, in \u001b[0;36mcolumnar\u001b[0;34m(row_table)\u001b[0m\n\u001b[1;32m     31\u001b[0m \u001b[39mdef\u001b[39;00m \u001b[39mcolumnar\u001b[39m(row_table: \u001b[39mlist\u001b[39m[\u001b[39mdict\u001b[39m[\u001b[39mstr\u001b[39m, \u001b[39mstr\u001b[39m]]) \u001b[39m-\u001b[39m\u001b[39m>\u001b[39m \u001b[39mdict\u001b[39m[\u001b[39mstr\u001b[39m, \u001b[39mlist\u001b[39m[\u001b[39mstr\u001b[39m]]:\n\u001b[1;32m     32\u001b[0m     \u001b[39m\"\"\"Transform a row-oriented table to a column-oriented table.\"\"\"\u001b[39;00m\n\u001b[0;32m---> 33\u001b[0m     result \u001b[39m=\u001b[39m \u001b[39mdict\u001b[39;49m[\u001b[39mstr\u001b[39;49m, \u001b[39mlist\u001b[39;49m[\u001b[39mstr\u001b[39;49m]] \u001b[39m=\u001b[39m {}\n\u001b[1;32m     35\u001b[0m     \u001b[39mreturn\u001b[39;00m result\n",
      "\u001b[0;31mTypeError\u001b[0m: 'type' object does not support item assignment"
     ]
    }
   ],
   "source": [
    "from LS21_data_utils import columnar\n",
    "\n",
    "column_table: dict[str, list[str]] = columnar(data_table)\n",
    "column_table"
   ]
  }
 ],
 "metadata": {
  "kernelspec": {
   "display_name": "Python 3.10.6 64-bit",
   "language": "python",
   "name": "python3"
  },
  "language_info": {
   "codemirror_mode": {
    "name": "ipython",
    "version": 3
   },
   "file_extension": ".py",
   "mimetype": "text/x-python",
   "name": "python",
   "nbconvert_exporter": "python",
   "pygments_lexer": "ipython3",
   "version": "3.10.6"
  },
  "orig_nbformat": 4,
  "vscode": {
   "interpreter": {
    "hash": "aee8b7b246df8f9039afb4144a1f6fd8d2ca17a180786b69acc140d282b71a49"
   }
  }
 },
 "nbformat": 4,
 "nbformat_minor": 2
}
